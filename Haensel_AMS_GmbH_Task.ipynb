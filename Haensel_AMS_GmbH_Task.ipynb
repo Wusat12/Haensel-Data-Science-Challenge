{
 "cells": [
  {
   "cell_type": "code",
   "execution_count": 30,
   "id": "1f5335d8",
   "metadata": {},
   "outputs": [],
   "source": [
    "## To remove warnings\n",
    "import os\n",
    "os.environ['THEANO_FLAGS'] = 'blas.ldflags=-lopenblas'"
   ]
  },
  {
   "cell_type": "code",
   "execution_count": 55,
   "id": "69785bb9",
   "metadata": {},
   "outputs": [],
   "source": [
    "import numpy as np\n",
    "import pandas as pd\n",
    "import seaborn as sns\n",
    "import pymc3 as pm\n",
    "import matplotlib.pyplot as plt\n",
    "from sklearn.preprocessing import StandardScaler\n",
    "from scipy.optimize import minimize\n"
   ]
  },
  {
   "cell_type": "code",
   "execution_count": 32,
   "id": "02979f85",
   "metadata": {},
   "outputs": [],
   "source": [
    "# Load the dataset\n",
    "# Specify the path to the CSV file\n",
    "filelocation = r\"C:\\Users\\hp\\Downloads\\MMM_test_data.csv\"\n",
    "\n",
    "# Read the CSV file into a DataFrame\n",
    "data = pd.read_csv(filelocation)"
   ]
  },
  {
   "cell_type": "code",
   "execution_count": 33,
   "id": "a1592254",
   "metadata": {},
   "outputs": [
    {
     "data": {
      "text/html": [
       "<div>\n",
       "<style scoped>\n",
       "    .dataframe tbody tr th:only-of-type {\n",
       "        vertical-align: middle;\n",
       "    }\n",
       "\n",
       "    .dataframe tbody tr th {\n",
       "        vertical-align: top;\n",
       "    }\n",
       "\n",
       "    .dataframe thead th {\n",
       "        text-align: right;\n",
       "    }\n",
       "</style>\n",
       "<table border=\"1\" class=\"dataframe\">\n",
       "  <thead>\n",
       "    <tr style=\"text-align: right;\">\n",
       "      <th></th>\n",
       "      <th>start_of_week</th>\n",
       "      <th>revenue</th>\n",
       "      <th>spend_channel_1</th>\n",
       "      <th>spend_channel_2</th>\n",
       "      <th>spend_channel_3</th>\n",
       "      <th>spend_channel_4</th>\n",
       "      <th>spend_channel_5</th>\n",
       "      <th>spend_channel_6</th>\n",
       "      <th>spend_channel_7</th>\n",
       "    </tr>\n",
       "  </thead>\n",
       "  <tbody>\n",
       "    <tr>\n",
       "      <th>0</th>\n",
       "      <td>30-08-20</td>\n",
       "      <td>157906.75</td>\n",
       "      <td>2625.48</td>\n",
       "      <td>262.71</td>\n",
       "      <td>12954.12</td>\n",
       "      <td>3609.63</td>\n",
       "      <td>12955.29</td>\n",
       "      <td>12659.12</td>\n",
       "      <td>19379.79</td>\n",
       "    </tr>\n",
       "    <tr>\n",
       "      <th>1</th>\n",
       "      <td>06-09-20</td>\n",
       "      <td>186425.68</td>\n",
       "      <td>2634.01</td>\n",
       "      <td>108.66</td>\n",
       "      <td>8760.28</td>\n",
       "      <td>4560.60</td>\n",
       "      <td>12747.70</td>\n",
       "      <td>12338.18</td>\n",
       "      <td>22473.45</td>\n",
       "    </tr>\n",
       "    <tr>\n",
       "      <th>2</th>\n",
       "      <td>13-09-20</td>\n",
       "      <td>161607.39</td>\n",
       "      <td>2087.08</td>\n",
       "      <td>110.32</td>\n",
       "      <td>7155.42</td>\n",
       "      <td>4362.96</td>\n",
       "      <td>15015.41</td>\n",
       "      <td>10811.15</td>\n",
       "      <td>22596.05</td>\n",
       "    </tr>\n",
       "    <tr>\n",
       "      <th>3</th>\n",
       "      <td>20-09-20</td>\n",
       "      <td>180089.13</td>\n",
       "      <td>1690.70</td>\n",
       "      <td>52.79</td>\n",
       "      <td>15185.22</td>\n",
       "      <td>3883.41</td>\n",
       "      <td>15521.41</td>\n",
       "      <td>12890.22</td>\n",
       "      <td>24728.73</td>\n",
       "    </tr>\n",
       "    <tr>\n",
       "      <th>4</th>\n",
       "      <td>27-09-20</td>\n",
       "      <td>217793.98</td>\n",
       "      <td>1547.30</td>\n",
       "      <td>80.56</td>\n",
       "      <td>18524.05</td>\n",
       "      <td>4043.09</td>\n",
       "      <td>15793.74</td>\n",
       "      <td>12642.55</td>\n",
       "      <td>26515.48</td>\n",
       "    </tr>\n",
       "  </tbody>\n",
       "</table>\n",
       "</div>"
      ],
      "text/plain": [
       "  start_of_week    revenue  spend_channel_1  spend_channel_2  spend_channel_3  \\\n",
       "0      30-08-20  157906.75          2625.48           262.71         12954.12   \n",
       "1      06-09-20  186425.68          2634.01           108.66          8760.28   \n",
       "2      13-09-20  161607.39          2087.08           110.32          7155.42   \n",
       "3      20-09-20  180089.13          1690.70            52.79         15185.22   \n",
       "4      27-09-20  217793.98          1547.30            80.56         18524.05   \n",
       "\n",
       "   spend_channel_4  spend_channel_5  spend_channel_6  spend_channel_7  \n",
       "0          3609.63         12955.29         12659.12         19379.79  \n",
       "1          4560.60         12747.70         12338.18         22473.45  \n",
       "2          4362.96         15015.41         10811.15         22596.05  \n",
       "3          3883.41         15521.41         12890.22         24728.73  \n",
       "4          4043.09         15793.74         12642.55         26515.48  "
      ]
     },
     "execution_count": 33,
     "metadata": {},
     "output_type": "execute_result"
    }
   ],
   "source": [
    "data.head()"
   ]
  },
  {
   "cell_type": "code",
   "execution_count": 34,
   "id": "fbb53cca",
   "metadata": {},
   "outputs": [
    {
     "name": "stdout",
     "output_type": "stream",
     "text": [
      "<class 'pandas.core.frame.DataFrame'>\n",
      "RangeIndex: 104 entries, 0 to 103\n",
      "Data columns (total 9 columns):\n",
      " #   Column           Non-Null Count  Dtype  \n",
      "---  ------           --------------  -----  \n",
      " 0   start_of_week    104 non-null    object \n",
      " 1   revenue          104 non-null    float64\n",
      " 2   spend_channel_1  104 non-null    float64\n",
      " 3   spend_channel_2  104 non-null    float64\n",
      " 4   spend_channel_3  104 non-null    float64\n",
      " 5   spend_channel_4  104 non-null    float64\n",
      " 6   spend_channel_5  104 non-null    float64\n",
      " 7   spend_channel_6  104 non-null    float64\n",
      " 8   spend_channel_7  104 non-null    float64\n",
      "dtypes: float64(8), object(1)\n",
      "memory usage: 7.4+ KB\n"
     ]
    }
   ],
   "source": [
    "#Check data types and null values\n",
    "data.info()"
   ]
  },
  {
   "cell_type": "code",
   "execution_count": 35,
   "id": "00315588",
   "metadata": {},
   "outputs": [
    {
     "data": {
      "text/html": [
       "<div>\n",
       "<style scoped>\n",
       "    .dataframe tbody tr th:only-of-type {\n",
       "        vertical-align: middle;\n",
       "    }\n",
       "\n",
       "    .dataframe tbody tr th {\n",
       "        vertical-align: top;\n",
       "    }\n",
       "\n",
       "    .dataframe thead th {\n",
       "        text-align: right;\n",
       "    }\n",
       "</style>\n",
       "<table border=\"1\" class=\"dataframe\">\n",
       "  <thead>\n",
       "    <tr style=\"text-align: right;\">\n",
       "      <th></th>\n",
       "      <th>revenue</th>\n",
       "      <th>spend_channel_1</th>\n",
       "      <th>spend_channel_2</th>\n",
       "      <th>spend_channel_3</th>\n",
       "      <th>spend_channel_4</th>\n",
       "      <th>spend_channel_5</th>\n",
       "      <th>spend_channel_6</th>\n",
       "      <th>spend_channel_7</th>\n",
       "    </tr>\n",
       "  </thead>\n",
       "  <tbody>\n",
       "    <tr>\n",
       "      <th>count</th>\n",
       "      <td>104.000000</td>\n",
       "      <td>104.000000</td>\n",
       "      <td>104.000000</td>\n",
       "      <td>104.000000</td>\n",
       "      <td>104.000000</td>\n",
       "      <td>104.000000</td>\n",
       "      <td>104.000000</td>\n",
       "      <td>104.000000</td>\n",
       "    </tr>\n",
       "    <tr>\n",
       "      <th>mean</th>\n",
       "      <td>136490.190673</td>\n",
       "      <td>1245.604808</td>\n",
       "      <td>343.640962</td>\n",
       "      <td>19507.177981</td>\n",
       "      <td>6915.136731</td>\n",
       "      <td>8575.611442</td>\n",
       "      <td>5063.699038</td>\n",
       "      <td>27701.367404</td>\n",
       "    </tr>\n",
       "    <tr>\n",
       "      <th>std</th>\n",
       "      <td>50810.253012</td>\n",
       "      <td>1388.384632</td>\n",
       "      <td>332.988218</td>\n",
       "      <td>8714.759886</td>\n",
       "      <td>3123.172035</td>\n",
       "      <td>6956.787524</td>\n",
       "      <td>6689.472660</td>\n",
       "      <td>12176.293684</td>\n",
       "    </tr>\n",
       "    <tr>\n",
       "      <th>min</th>\n",
       "      <td>63207.090000</td>\n",
       "      <td>0.000000</td>\n",
       "      <td>4.370000</td>\n",
       "      <td>5938.130000</td>\n",
       "      <td>3602.200000</td>\n",
       "      <td>747.460000</td>\n",
       "      <td>0.000000</td>\n",
       "      <td>9391.210000</td>\n",
       "    </tr>\n",
       "    <tr>\n",
       "      <th>25%</th>\n",
       "      <td>101675.685000</td>\n",
       "      <td>334.275000</td>\n",
       "      <td>120.470000</td>\n",
       "      <td>13879.000000</td>\n",
       "      <td>5113.937500</td>\n",
       "      <td>2902.032500</td>\n",
       "      <td>0.000000</td>\n",
       "      <td>19797.710000</td>\n",
       "    </tr>\n",
       "    <tr>\n",
       "      <th>50%</th>\n",
       "      <td>128790.460000</td>\n",
       "      <td>856.870000</td>\n",
       "      <td>202.020000</td>\n",
       "      <td>17929.450000</td>\n",
       "      <td>6194.400000</td>\n",
       "      <td>6879.270000</td>\n",
       "      <td>2423.095000</td>\n",
       "      <td>24248.640000</td>\n",
       "    </tr>\n",
       "    <tr>\n",
       "      <th>75%</th>\n",
       "      <td>157707.280000</td>\n",
       "      <td>1658.032500</td>\n",
       "      <td>553.075000</td>\n",
       "      <td>22252.262500</td>\n",
       "      <td>7470.557500</td>\n",
       "      <td>14367.582500</td>\n",
       "      <td>8701.960000</td>\n",
       "      <td>33852.652500</td>\n",
       "    </tr>\n",
       "    <tr>\n",
       "      <th>max</th>\n",
       "      <td>418186.380000</td>\n",
       "      <td>8513.830000</td>\n",
       "      <td>1605.850000</td>\n",
       "      <td>49689.380000</td>\n",
       "      <td>22629.690000</td>\n",
       "      <td>33009.650000</td>\n",
       "      <td>33692.830000</td>\n",
       "      <td>77488.420000</td>\n",
       "    </tr>\n",
       "  </tbody>\n",
       "</table>\n",
       "</div>"
      ],
      "text/plain": [
       "             revenue  spend_channel_1  spend_channel_2  spend_channel_3  \\\n",
       "count     104.000000       104.000000       104.000000       104.000000   \n",
       "mean   136490.190673      1245.604808       343.640962     19507.177981   \n",
       "std     50810.253012      1388.384632       332.988218      8714.759886   \n",
       "min     63207.090000         0.000000         4.370000      5938.130000   \n",
       "25%    101675.685000       334.275000       120.470000     13879.000000   \n",
       "50%    128790.460000       856.870000       202.020000     17929.450000   \n",
       "75%    157707.280000      1658.032500       553.075000     22252.262500   \n",
       "max    418186.380000      8513.830000      1605.850000     49689.380000   \n",
       "\n",
       "       spend_channel_4  spend_channel_5  spend_channel_6  spend_channel_7  \n",
       "count       104.000000       104.000000       104.000000       104.000000  \n",
       "mean       6915.136731      8575.611442      5063.699038     27701.367404  \n",
       "std        3123.172035      6956.787524      6689.472660     12176.293684  \n",
       "min        3602.200000       747.460000         0.000000      9391.210000  \n",
       "25%        5113.937500      2902.032500         0.000000     19797.710000  \n",
       "50%        6194.400000      6879.270000      2423.095000     24248.640000  \n",
       "75%        7470.557500     14367.582500      8701.960000     33852.652500  \n",
       "max       22629.690000     33009.650000     33692.830000     77488.420000  "
      ]
     },
     "execution_count": 35,
     "metadata": {},
     "output_type": "execute_result"
    }
   ],
   "source": [
    "#Data description \n",
    "data.describe()"
   ]
  },
  {
   "cell_type": "code",
   "execution_count": 36,
   "id": "c4bf00a0",
   "metadata": {
    "scrolled": true
   },
   "outputs": [],
   "source": [
    "# Convert the 'start_of_week' column to datetime\n",
    "data['start_of_week'] = pd.to_datetime(data['start_of_week'], format='%d-%m-%y')\n",
    "\n",
    "# Extract year, month, quarter, and week of year\n",
    "data['year'] = data['start_of_week'].dt.year\n",
    "data['month'] = data['start_of_week'].dt.month\n",
    "data['quarter'] = data['start_of_week'].dt.quarter\n",
    "data['week_of_year'] = data['start_of_week'].dt.isocalendar().week\n",
    "\n",
    "# Create trend variable to calculate trends assuming a linear trend\n",
    "data['trend'] = np.arange(len(data))\n",
    "##np.random.seed(42)\n"
   ]
  },
  {
   "cell_type": "markdown",
   "id": "de29f670",
   "metadata": {},
   "source": [
    "## Calculating the initial Baysian model for Decay factor"
   ]
  },
  {
   "cell_type": "code",
   "execution_count": 37,
   "id": "357efa0d",
   "metadata": {},
   "outputs": [
    {
     "name": "stderr",
     "output_type": "stream",
     "text": [
      "C:\\Users\\hp\\AppData\\Local\\Temp\\ipykernel_2804\\4105210672.py:21: FutureWarning: In v4.0, pm.sample will return an `arviz.InferenceData` object instead of a `MultiTrace` by default. You can pass return_inferencedata=True or return_inferencedata=False to be safe and silence this warning.\n",
      "  initial_trace = pm.sample(2000, tune=1000, cores=2, target_accept=0.95)\n",
      "Auto-assigning NUTS sampler...\n",
      "Initializing NUTS using jitter+adapt_diag...\n",
      "Multiprocess sampling (2 chains in 2 jobs)\n",
      "NUTS: [sigma, beta, intercept]\n"
     ]
    },
    {
     "data": {
      "text/html": [
       "\n",
       "    <div>\n",
       "        <style>\n",
       "            /* Turns off some styling */\n",
       "            progress {\n",
       "                /* gets rid of default border in Firefox and Opera. */\n",
       "                border: none;\n",
       "                /* Needs to be in here for Safari polyfill so background images work as expected. */\n",
       "                background-size: auto;\n",
       "            }\n",
       "            .progress-bar-interrupted, .progress-bar-interrupted::-webkit-progress-bar {\n",
       "                background: #F44336;\n",
       "            }\n",
       "        </style>\n",
       "      <progress value='6000' class='' max='6000' style='width:300px; height:20px; vertical-align: middle;'></progress>\n",
       "      100.00% [6000/6000 00:36<00:00 Sampling 2 chains, 0 divergences]\n",
       "    </div>\n",
       "    "
      ],
      "text/plain": [
       "<IPython.core.display.HTML object>"
      ]
     },
     "metadata": {},
     "output_type": "display_data"
    },
    {
     "name": "stderr",
     "output_type": "stream",
     "text": [
      "Sampling 2 chains for 1_000 tune and 2_000 draw iterations (2_000 + 4_000 draws total) took 52 seconds.\n"
     ]
    }
   ],
   "source": [
    "# Standardize the data\n",
    "channels = [f'spend_channel_{i}' for i in range(1, 8)]\n",
    "scaler = StandardScaler()\n",
    "X_initial = scaler.fit_transform(data[channels + ['trend']].values)\n",
    "y = np.log(data['revenue'].values)\n",
    "\n",
    "# Define and sample the initial Bayesian model\n",
    "with pm.Model() as initial_model:\n",
    "    # Priors\n",
    "    intercept = pm.Normal('intercept', mu=0, sigma=10)\n",
    "    beta = pm.Normal('beta', mu=0, sigma=10, shape=8)  # 7 channels + 1 for trend\n",
    "    sigma = pm.HalfNormal('sigma', sigma=10)\n",
    "    \n",
    "    # Expected revenue\n",
    "    y_hat = intercept + pm.math.dot(X_initial, beta)\n",
    "    \n",
    "    # Likelihood\n",
    "    y_like = pm.Normal('y_like', mu=y_hat, sigma=sigma, observed=y)\n",
    "    \n",
    "    # Sampling\n",
    "    initial_trace = pm.sample(2000, tune=1000, cores=2, target_accept=0.95)\n"
   ]
  },
  {
   "cell_type": "markdown",
   "id": "eed75d65",
   "metadata": {},
   "source": [
    "## Calculate Optimal Decay factor for each Channel"
   ]
  },
  {
   "cell_type": "code",
   "execution_count": 38,
   "id": "8c26a9ba",
   "metadata": {},
   "outputs": [
    {
     "name": "stdout",
     "output_type": "stream",
     "text": [
      "Optimal Decay Factors:\n",
      "spend_channel_1: 0.9852227240247096\n",
      "spend_channel_2: -0.7040077560788411\n",
      "spend_channel_3: 0.5464040234575489\n",
      "spend_channel_4: -0.9171328511104306\n",
      "spend_channel_5: -0.8511968564590799\n",
      "spend_channel_6: -0.8236495058492714\n",
      "spend_channel_7: -0.571969909880639\n"
     ]
    }
   ],
   "source": [
    "# Define the adstock function\n",
    "def adstock_transform(spend, decay):\n",
    "    adstocked = np.zeros_like(spend)\n",
    "    for t in range(len(spend)):\n",
    "        if t == 0:\n",
    "            adstocked[t] = spend[t]\n",
    "        else:\n",
    "            adstocked[t] = spend[t] + adstocked[t-1] * decay\n",
    "    return adstocked\n",
    "\n",
    "# Define the objective function to minimize\n",
    "def objective_function(decay_factors):\n",
    "    predicted_revenue = np.zeros(len(data))\n",
    "    for i, channel in enumerate(channels):\n",
    "        spend = data[channel].values\n",
    "        adstocked_spend = adstock_transform(spend, decay_factors[i])\n",
    "        predicted_revenue += adstocked_spend * initial_trace['beta'][:, i].mean()  # Use mean of beta from trace\n",
    "    \n",
    "    return np.sum((np.log(data['revenue']) - predicted_revenue) ** 2)\n",
    "\n",
    "# Initial value for decay factors=0.5\n",
    "initial_guess = np.ones(len(channels)) * 0.5\n",
    "\n",
    "# Minimize the objective function to find optimal decay factors\n",
    "result = minimize(objective_function, initial_guess, method='Nelder-Mead')\n",
    "\n",
    "# Optimal decay factors\n",
    "optimal_decay_factors = result.x\n",
    "print(\"Optimal Decay Factors:\")\n",
    "for i, channel in enumerate(channels):\n",
    "    print(f\"{channel}: {optimal_decay_factors[i]}\")\n"
   ]
  },
  {
   "cell_type": "code",
   "execution_count": 39,
   "id": "74876370",
   "metadata": {},
   "outputs": [],
   "source": [
    "# Apply adstock transformation to each channel with calculated optimal decay factors\n",
    "for i, channel in enumerate(channels):\n",
    "    adstock_channel_name = f'adstock_{channel}'\n",
    "    data[adstock_channel_name] = adstock_transform(data[channel], optimal_decay_factors[i])\n",
    "\n",
    "# Standardize the data including adstocked channels and trend\n",
    "X = scaler.fit_transform(data[[f'adstock_spend_channel_{i}' for i in range(1, 8)] + ['trend']].values)\n"
   ]
  },
  {
   "cell_type": "markdown",
   "id": "41184c75",
   "metadata": {},
   "source": [
    "## Bayesian MMM with optimal decay factors"
   ]
  },
  {
   "cell_type": "code",
   "execution_count": 40,
   "id": "863a3fbe",
   "metadata": {},
   "outputs": [
    {
     "name": "stderr",
     "output_type": "stream",
     "text": [
      "C:\\Users\\hp\\AppData\\Local\\Temp\\ipykernel_2804\\1738305843.py:15: FutureWarning: In v4.0, pm.sample will return an `arviz.InferenceData` object instead of a `MultiTrace` by default. You can pass return_inferencedata=True or return_inferencedata=False to be safe and silence this warning.\n",
      "  trace = pm.sample(2000, tune=1000, cores=2, target_accept=0.95)\n",
      "Auto-assigning NUTS sampler...\n",
      "Initializing NUTS using jitter+adapt_diag...\n",
      "Multiprocess sampling (2 chains in 2 jobs)\n",
      "NUTS: [sigma, beta, intercept]\n"
     ]
    },
    {
     "data": {
      "text/html": [
       "\n",
       "    <div>\n",
       "        <style>\n",
       "            /* Turns off some styling */\n",
       "            progress {\n",
       "                /* gets rid of default border in Firefox and Opera. */\n",
       "                border: none;\n",
       "                /* Needs to be in here for Safari polyfill so background images work as expected. */\n",
       "                background-size: auto;\n",
       "            }\n",
       "            .progress-bar-interrupted, .progress-bar-interrupted::-webkit-progress-bar {\n",
       "                background: #F44336;\n",
       "            }\n",
       "        </style>\n",
       "      <progress value='6000' class='' max='6000' style='width:300px; height:20px; vertical-align: middle;'></progress>\n",
       "      100.00% [6000/6000 00:34<00:00 Sampling 2 chains, 0 divergences]\n",
       "    </div>\n",
       "    "
      ],
      "text/plain": [
       "<IPython.core.display.HTML object>"
      ]
     },
     "metadata": {},
     "output_type": "display_data"
    },
    {
     "name": "stderr",
     "output_type": "stream",
     "text": [
      "Sampling 2 chains for 1_000 tune and 2_000 draw iterations (2_000 + 4_000 draws total) took 47 seconds.\n",
      "C:\\Users\\hp\\anaconda3\\envs\\pymc3_env\\lib\\site-packages\\arviz\\data\\io_pymc3.py:96: FutureWarning: Using `from_pymc3` without the model will be deprecated in a future release. Not using the model will return less accurate and less useful results. Make sure you use the model argument or call from_pymc3 within a model context.\n",
      "  warnings.warn(\n"
     ]
    },
    {
     "name": "stdout",
     "output_type": "stream",
     "text": [
      "             mean     sd  hdi_3%  hdi_97%  mcse_mean  mcse_sd  ess_bulk  \\\n",
      "intercept  11.768  0.024  11.721   11.812      0.000    0.000    5240.0   \n",
      "beta[0]    -0.074  0.043  -0.155    0.006      0.001    0.001    4380.0   \n",
      "beta[1]    -0.018  0.033  -0.077    0.047      0.001    0.000    4176.0   \n",
      "beta[2]     0.105  0.031   0.048    0.166      0.000    0.000    4518.0   \n",
      "beta[3]     0.038  0.029  -0.017    0.089      0.000    0.000    3891.0   \n",
      "beta[4]    -0.027  0.034  -0.092    0.036      0.001    0.000    4183.0   \n",
      "beta[5]     0.051  0.033  -0.011    0.112      0.001    0.000    4290.0   \n",
      "beta[6]     0.093  0.033   0.032    0.158      0.001    0.000    4362.0   \n",
      "beta[7]    -0.120  0.044  -0.207   -0.040      0.001    0.000    4120.0   \n",
      "sigma       0.253  0.019   0.218    0.286      0.000    0.000    4796.0   \n",
      "\n",
      "           ess_tail  r_hat  \n",
      "intercept    3120.0    1.0  \n",
      "beta[0]      2910.0    1.0  \n",
      "beta[1]      3050.0    1.0  \n",
      "beta[2]      2884.0    1.0  \n",
      "beta[3]      2647.0    1.0  \n",
      "beta[4]      2875.0    1.0  \n",
      "beta[5]      2987.0    1.0  \n",
      "beta[6]      2936.0    1.0  \n",
      "beta[7]      3245.0    1.0  \n",
      "sigma        2540.0    1.0  \n"
     ]
    }
   ],
   "source": [
    "# Define the Bayesian Media Mix Model\n",
    "with pm.Model() as model:\n",
    "    # Priors\n",
    "    intercept = pm.Normal('intercept', mu=0, sigma=10)\n",
    "    beta = pm.Normal('beta', mu=0, sigma=10, shape=8)  # 7 channels + 1 for trend\n",
    "    sigma = pm.HalfNormal('sigma', sigma=10)\n",
    "    \n",
    "    # Expected revenue\n",
    "    y_hat = intercept + pm.math.dot(X, beta)\n",
    "    \n",
    "    # Likelihood\n",
    "    y_like = pm.Normal('y_like', mu=y_hat, sigma=sigma, observed=y)\n",
    "    \n",
    "    # Sampling\n",
    "    trace = pm.sample(2000, tune=1000, cores=2, target_accept=0.95)\n",
    "\n",
    "# Summarize the trace\n",
    "summary = pm.summary(trace)\n",
    "print(summary)\n"
   ]
  },
  {
   "cell_type": "markdown",
   "id": "38a080b9",
   "metadata": {},
   "source": [
    "## Compare prior vs posterior"
   ]
  },
  {
   "cell_type": "code",
   "execution_count": 63,
   "id": "67d610e3",
   "metadata": {},
   "outputs": [
    {
     "data": {
      "text/html": [
       "\n",
       "    <div>\n",
       "        <style>\n",
       "            /* Turns off some styling */\n",
       "            progress {\n",
       "                /* gets rid of default border in Firefox and Opera. */\n",
       "                border: none;\n",
       "                /* Needs to be in here for Safari polyfill so background images work as expected. */\n",
       "                background-size: auto;\n",
       "            }\n",
       "            .progress-bar-interrupted, .progress-bar-interrupted::-webkit-progress-bar {\n",
       "                background: #F44336;\n",
       "            }\n",
       "        </style>\n",
       "      <progress value='4000' class='' max='4000' style='width:300px; height:20px; vertical-align: middle;'></progress>\n",
       "      100.00% [4000/4000 00:11<00:00]\n",
       "    </div>\n",
       "    "
      ],
      "text/plain": [
       "<IPython.core.display.HTML object>"
      ]
     },
     "metadata": {},
     "output_type": "display_data"
    },
    {
     "data": {
      "image/png": "[encoded data removed]",
      "text/plain": [
       "<Figure size 1200x1000 with 1 Axes>"
      ]
     },
     "metadata": {},
     "output_type": "display_data"
    },
    {
     "name": "stdout",
     "output_type": "stream",
     "text": [
      "\n",
      "Prior Predictive Distribution Summary:\n",
      "    mean      sd  hdi_3%  hdi_97%  mcse_mean  mcse_sd  ess_bulk  ess_tail  \\\n",
      "x -0.289  32.312 -60.614   61.059      0.741    0.524    1845.0    5102.0   \n",
      "\n",
      "   r_hat  \n",
      "x    1.2  \n",
      "\n",
      "Posterior Predictive Distribution Summary:\n"
     ]
    },
    {
     "name": "stderr",
     "output_type": "stream",
     "text": [
      "C:\\Users\\hp\\anaconda3\\envs\\pymc3_env\\lib\\site-packages\\arviz\\data\\base.py:169: UserWarning: More chains (500) than draws (104). Passed array should have shape (chains, draws, *shape)\n",
      "  warnings.warn(\n",
      "C:\\Users\\hp\\anaconda3\\envs\\pymc3_env\\lib\\site-packages\\arviz\\data\\base.py:169: UserWarning: More chains (4000) than draws (104). Passed array should have shape (chains, draws, *shape)\n",
      "  warnings.warn(\n"
     ]
    },
    {
     "name": "stdout",
     "output_type": "stream",
     "text": [
      "     mean     sd  hdi_3%  hdi_97%  mcse_mean  mcse_sd  ess_bulk  ess_tail  \\\n",
      "x  11.768  0.344  11.128   12.421      0.001    0.001   72463.0  248435.0   \n",
      "\n",
      "   r_hat  \n",
      "x   1.04  \n",
      "R-squared: 0.4527551615488148\n"
     ]
    }
   ],
   "source": [
    "\n",
    "with model:\n",
    "    prior_pred = pm.sample_prior_predictive()\n",
    "    posterior_pred = pm.sample_posterior_predictive(trace)\n",
    "\n",
    "# Plot prior vs. posterior\n",
    "plt.figure(figsize=(12, 10))\n",
    "plt.hist(prior_pred['y_like'], bins=30, alpha=0.5, label='Prior')\n",
    "plt.hist(posterior_pred['y_like'], bins=30, alpha=0.5, label='Posterior')\n",
    "plt.legend()\n",
    "plt.xlabel('Log Revenue')\n",
    "plt.ylabel('Frequency')\n",
    "plt.title('Prior vs. Posterior Predictive Distributions')\n",
    "plt.show()\n",
    "\n",
    "# Textual summaries\n",
    "print(\"\\nPrior Predictive Distribution Summary:\")\n",
    "print(pm.summary(prior_pred['y_like']))\n",
    "\n",
    "print(\"\\nPosterior Predictive Distribution Summary:\")\n",
    "print(pm.summary(posterior_pred['y_like']))\n",
    "\n",
    "# Model performance: R-squared\n",
    "y_pred = np.exp(posterior_pred['y_like'].mean(axis=0))\n",
    "y_true = data['revenue'].values\n",
    "r_squared = 1 - np.sum((y_true - y_pred)**2) / np.sum((y_true - np.mean(y_true))**2)\n",
    "print(f'R-squared: {r_squared}')\n"
   ]
  },
  {
   "cell_type": "markdown",
   "id": "07c93277",
   "metadata": {},
   "source": [
    "## Channel performance"
   ]
  },
  {
   "cell_type": "code",
   "execution_count": 42,
   "id": "60a49f55",
   "metadata": {},
   "outputs": [
    {
     "name": "stdout",
     "output_type": "stream",
     "text": [
      "Channel 1 mean beta: -0.07362319172099753\n",
      "Channel 2 mean beta: -0.017976912813602048\n",
      "Channel 3 mean beta: 0.10486730731689409\n",
      "Channel 4 mean beta: 0.037607148450844764\n",
      "Channel 5 mean beta: -0.02746115220812793\n",
      "Channel 6 mean beta: 0.05098001771805232\n",
      "Channel 7 mean beta: 0.0932100069297602\n",
      "Best channel in terms of ROI: Channel 6\n"
     ]
    },
    {
     "data": {
      "image/png": "[encoded data removed]",
      "text/plain": [
       "<Figure size 1200x600 with 1 Axes>"
      ]
     },
     "metadata": {},
     "output_type": "display_data"
    }
   ],
   "source": [
    "# Main insights: Channel performance/effects\n",
    "betas = trace['beta'][:, :-1]  # Exclude the last beta which is for trend\n",
    "for i in range(7):\n",
    "    print(f'Channel {i+1} mean beta: {np.mean(betas[:, i])}')\n",
    "\n",
    "# ROI estimates per channel\n",
    "roi = []\n",
    "for i in range(7):\n",
    "    mean_beta = np.mean(betas[:, i])\n",
    "    mean_spend = np.mean(data[f'spend_channel_{i+1}'])\n",
    "    roi.append((mean_beta * np.mean(y_true)) / mean_spend)\n",
    "\n",
    "# Best channel in terms of ROI\n",
    "best_channel = np.argmax(roi) + 1\n",
    "print(f'Best channel in terms of ROI: Channel {best_channel}')\n",
    "\n",
    "# Plot ROIs\n",
    "plt.figure(figsize=(12, 6))\n",
    "plt.bar(range(1, 8), roi)\n",
    "plt.xlabel('Channel')\n",
    "plt.ylabel('ROI')\n",
    "plt.title('ROI per Channel')\n",
    "plt.show()\n"
   ]
  },
  {
   "cell_type": "markdown",
   "id": "799bdb2f",
   "metadata": {},
   "source": [
    "## Aggregate ROI analysis across samples\n"
   ]
  },
  {
   "cell_type": "code",
   "execution_count": 43,
   "id": "c666e301",
   "metadata": {},
   "outputs": [
    {
     "name": "stdout",
     "output_type": "stream",
     "text": [
      "Channel 1 mean ROI: -8.067441144978083 (95% HDI: -17.55054863882923 - 1.2429937473231212)\n",
      "Channel 2 mean ROI: -7.140220556527578 (95% HDI: -33.14827974475272 - 18.595676666350727)\n",
      "Channel 3 mean ROI: 0.7337483046069271 (95% HDI: 0.30524907703030124 - 1.1669286660107558)\n",
      "Channel 4 mean ROI: 0.7422856644159976 (95% HDI: -0.329892948408873 - 1.847039916528128)\n",
      "Channel 5 mean ROI: -0.4370741289067939 (95% HDI: -1.5279575305690007 - 0.6418080051822548)\n",
      "Channel 6 mean ROI: 1.374148085421735 (95% HDI: -0.33224827909889 - 3.1502039874382395)\n",
      "Channel 7 mean ROI: 0.45926439056273455 (95% HDI: 0.1390267902548522 - 0.7910981546878015)\n",
      "Best channel in terms of ROI: Channel 6\n"
     ]
    },
    {
     "data": {
      "image/png": "[encoded data removed]",
      "text/plain": [
       "<Figure size 1200x600 with 1 Axes>"
      ]
     },
     "metadata": {},
     "output_type": "display_data"
    },
    {
     "data": {
      "image/png": "[encoded data removed]",
      "text/plain": [
       "<Figure size 1400x700 with 1 Axes>"
      ]
     },
     "metadata": {},
     "output_type": "display_data"
    }
   ],
   "source": [
    "# Extract beta values from the trace (excluding trend)\n",
    "betas = trace['beta'][:, :-1]\n",
    "\n",
    "# Initialize a list to store ROI estimates across all samples\n",
    "all_roi = []\n",
    "\n",
    "# Calculate the ROI for each channel for each sample\n",
    "for sample_idx in range(betas.shape[0]):\n",
    "    roi_sample = []\n",
    "    for i in range(7):\n",
    "        beta_sample = betas[sample_idx, i]\n",
    "        mean_spend = np.mean(data[f'spend_channel_{i+1}'])\n",
    "        roi_sample.append((beta_sample * np.mean(y_true)) / mean_spend)\n",
    "    all_roi.append(roi_sample)\n",
    "\n",
    "# Convert all_roi to a numpy array for easier manipulation\n",
    "all_roi = np.array(all_roi)\n",
    "\n",
    "# Calculate aggregate statistics across all samples\n",
    "mean_roi = np.mean(all_roi, axis=0)\n",
    "hdi_2_5 = np.percentile(all_roi, 2.5, axis=0)\n",
    "hdi_97_5 = np.percentile(all_roi, 97.5, axis=0)\n",
    "\n",
    "# Identify the best channel based on mean ROI\n",
    "best_channel = np.argmax(mean_roi) + 1\n",
    "\n",
    "# Print mean ROI for each channel\n",
    "for i in range(7):\n",
    "    print(f'Channel {i+1} mean ROI: {mean_roi[i]} (95% HDI: {hdi_2_5[i]} - {hdi_97_5[i]})')\n",
    "\n",
    "# Print best channel based on mean ROI\n",
    "print(f'Best channel in terms of ROI: Channel {best_channel}')\n",
    "\n",
    "# Plot mean ROIs with 95% HDI across all channels\n",
    "plt.figure(figsize=(12, 6))\n",
    "plt.bar(range(1, 8), mean_roi, yerr=[mean_roi - hdi_2_5, hdi_97_5 - mean_roi], capsize=5)\n",
    "plt.xlabel('Channel')\n",
    "plt.ylabel('Mean ROI')\n",
    "plt.title('Mean ROI per Channel with 95% HDI')\n",
    "plt.show()\n",
    "\n",
    "# Plot the distribution of ROI estimates for each channel\n",
    "plt.figure(figsize=(14, 7))\n",
    "for i in range(7):\n",
    "    plt.hist(all_roi[:, i], bins=30, alpha=0.5, label=f'Channel {i+1}')\n",
    "plt.legend()\n",
    "plt.xlabel('ROI')\n",
    "plt.ylabel('Frequency')\n",
    "plt.title('Distribution of ROI Estimates per Channel')\n",
    "plt.show()"
   ]
  },
  {
   "cell_type": "code",
   "execution_count": null,
   "id": "9f495043",
   "metadata": {},
   "outputs": [],
   "source": []
  }
 ],
 "metadata": {
  "kernelspec": {
   "display_name": "Python (pymc3_env)",
   "language": "python",
   "name": "pymc3_env"
  },
  "language_info": {
   "codemirror_mode": {
    "name": "ipython",
    "version": 3
   },
   "file_extension": ".py",
   "mimetype": "text/x-python",
   "name": "python",
   "nbconvert_exporter": "python",
   "pygments_lexer": "ipython3",
   "version": "3.10.14"
  }
 },
 "nbformat": 4,
 "nbformat_minor": 5
}
